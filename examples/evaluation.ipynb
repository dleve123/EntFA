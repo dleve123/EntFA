{
 "cells": [
  {
   "cell_type": "markdown",
   "id": "f0ffa995",
   "metadata": {},
   "source": [
    "## Exploring"
   ]
  },
  {
   "cell_type": "code",
   "execution_count": 3,
   "id": "0a2e228a",
   "metadata": {},
   "outputs": [
    {
     "name": "stdout",
     "output_type": "stream",
     "text": [
      "entitites:\n",
      "<class 'list'>\n",
      "ent text:\n",
      "<class 'list'>\n",
      "['Sydney', 'first', 'Waverley', 'two', 'Australian']\n"
     ]
    }
   ],
   "source": [
    "import spacy\n",
    "\n",
    "nlp = spacy.load('en_core_web_sm')\n",
    "\n",
    "source = 'The city was brought to a standstill on 15 December last year when a gunman held 18 hostages for 17 hours. Family members of victims Tori Johnson and Katrina Dawson were in attendance. Images of the floral tributes that filled the city centre in the wake of the siege were projected on to the cafe and surrounding buildings in an emotional twilight ceremony. Prime Minister Malcolm Turnbull gave an address saying a \"whole nation resolved to answer hatred with love\". \"Testament to the spirit of Australians is that with such unnecessary, thoughtless tragedy, an amazing birth of mateship, unity and love occurs. Proud to be Australian,\" he said. How the Sydney siege unfolded. New South Wales Premier Mike Baird has also announced plans for a permanent memorial to be built into the pavement in Martin Place. Clear cubes containing flowers will be embedded into the concrete and will shine with specialised lighting. It is a project inspired by the massive floral tributes that were left in the days after the siege. \"Something remarkable happened here. As a city we were drawn to Martin Place. We came in shock and in sorrow but every step we took was with purpose,\" he said on Tuesday.'\n",
    "prediction = 'Sydney has marked the first anniversary of the siege at the Waverley cafe in which two women were killed by a gunman in the Australian city.'\n",
    "\n",
    "entities = nlp(prediction).to_json()['ents']\n",
    "ent_text = [prediction[e['start']: e['end']] for e in entities]\n",
    "\n",
    "print('entitites:')\n",
    "print(type(entities))\n",
    "\n",
    "print('ent text:')\n",
    "print(type(ent_text))\n",
    "print(ent_text)"
   ]
  },
  {
   "cell_type": "code",
   "execution_count": 17,
   "id": "04c43828",
   "metadata": {},
   "outputs": [],
   "source": [
    "def prepare_clm_inputs(source, target, ent_parts=None):\n",
    "    \"\"\"For Masked Language Model. For BART only.\"\"\"\n",
    "    if ent_parts is None:\n",
    "        ent_parts = nlp(target).to_json()['ents']\n",
    "    \n",
    "    inputs, targets = [], []\n",
    "    positions, entities = [], []\n",
    "\n",
    "    for e in ent_parts:\n",
    "        inputs.append(target[0: e['start']] + '<mask>')\n",
    "        targets.append(target[:e['end']])\n",
    "        entities.append(target[e['start']: e['end']])\n",
    "        positions.append((e['start'], e['end']))\n",
    "    \n",
    "    return inputs, targets, positions, entities"
   ]
  },
  {
   "cell_type": "code",
   "execution_count": 34,
   "id": "d4e372a5",
   "metadata": {},
   "outputs": [
    {
     "data": {
      "text/plain": [
       "(['<mask> has marked the first anniversary of the siege at the Waverley cafe in which two women were killed by a gunman in the Australian city.',\n",
       "  'Sydney has marked the <mask> anniversary of the siege at the Waverley cafe in which two women were killed by a gunman in the Australian city.',\n",
       "  'Sydney has marked the first anniversary of the siege at the <mask> cafe in which two women were killed by a gunman in the Australian city.',\n",
       "  'Sydney has marked the first anniversary of the siege at the Waverley cafe in which <mask> women were killed by a gunman in the Australian city.',\n",
       "  'Sydney has marked the first anniversary of the siege at the Waverley cafe in which two women were killed by a gunman in the <mask> city.'],\n",
       " ['Sydney has marked the first anniversary of the siege at the Waverley cafe in which two women were killed by a gunman in the Australian city.',\n",
       "  'Sydney has marked the first anniversary of the siege at the Waverley cafe in which two women were killed by a gunman in the Australian city.',\n",
       "  'Sydney has marked the first anniversary of the siege at the Waverley cafe in which two women were killed by a gunman in the Australian city.',\n",
       "  'Sydney has marked the first anniversary of the siege at the Waverley cafe in which two women were killed by a gunman in the Australian city.',\n",
       "  'Sydney has marked the first anniversary of the siege at the Waverley cafe in which two women were killed by a gunman in the Australian city.'],\n",
       " [(0, 6), (22, 27), (60, 68), (83, 86), (124, 134)],\n",
       " ['Sydney', 'first', 'Waverley', 'two', 'Australian'])"
      ]
     },
     "execution_count": 34,
     "metadata": {},
     "output_type": "execute_result"
    }
   ],
   "source": [
    "prepare_mlm_inputs(source, prediction, ent_parts=entities)"
   ]
  },
  {
   "cell_type": "markdown",
   "id": "4c9e910a",
   "metadata": {},
   "source": [
    "## Original"
   ]
  },
  {
   "cell_type": "code",
   "execution_count": 1,
   "id": "appointed-reconstruction",
   "metadata": {},
   "outputs": [
    {
     "name": "stderr",
     "output_type": "stream",
     "text": [
      "/opt/homebrew/Caskroom/mambaforge/base/envs/entfa/lib/python3.8/site-packages/tqdm/auto.py:22: TqdmWarning: IProgress not found. Please update jupyter and ipywidgets. See https://ipywidgets.readthedocs.io/en/stable/user_install.html\n",
      "  from .autonotebook import tqdm as notebook_tqdm\n"
     ]
    }
   ],
   "source": [
    "import json\n",
    "import torch\n",
    "\n",
    "from fairseq.models.bart import BARTModel"
   ]
  },
  {
   "cell_type": "code",
   "execution_count": 4,
   "id": "ac01838a-e509-4b17-91ed-d50e7c4ead07",
   "metadata": {},
   "outputs": [],
   "source": [
    "CMLM_MODEL_PATH = 'BART_models/xsum_cedar_cmlm'\n",
    "MLM_MODEL_PATH = 'BART_models/bart.large'\n",
    "DATA_NAME_OR_PATH = 'summarization/XSum/fairseq_files/xsum-bin'"
   ]
  },
  {
   "cell_type": "code",
   "execution_count": 5,
   "id": "assigned-exhibition",
   "metadata": {},
   "outputs": [
    {
     "name": "stderr",
     "output_type": "stream",
     "text": [
      "2022-03-15 14:57:32 | INFO | fairseq.file_utils | loading archive file /home/mila/c/caomeng/scratch/BART_models/xsum_cedar_cmlm\n",
      "2022-03-15 14:57:32 | INFO | fairseq.file_utils | loading archive file /home/mila/c/caomeng/scratch/summarization/XSum/fairseq_files/xsum-bin\n",
      "2022-03-15 14:57:41 | INFO | fairseq.tasks.translation | [source] dictionary: 50264 types\n",
      "2022-03-15 14:57:41 | INFO | fairseq.tasks.translation | [target] dictionary: 50264 types\n"
     ]
    }
   ],
   "source": [
    "bart = BARTModel.from_pretrained(CMLM_MODEL_PATH,\n",
    "                                 checkpoint_file='checkpoint_best.pt',\n",
    "                                 data_name_or_path=DATA_NAME_OR_PATH)"
   ]
  },
  {
   "cell_type": "code",
   "execution_count": 6,
   "id": "elementary-dutch",
   "metadata": {},
   "outputs": [
    {
     "name": "stderr",
     "output_type": "stream",
     "text": [
      "2022-03-15 14:57:52 | INFO | fairseq.file_utils | loading archive file /home/mila/c/caomeng/scratch/BART_models/bart.large\n",
      "2022-03-15 14:57:52 | INFO | fairseq.file_utils | loading archive file /home/mila/c/caomeng/scratch/BART_models/bart.large\n",
      "2022-03-15 14:57:59 | INFO | fairseq.tasks.denoising | dictionary: 50264 types\n"
     ]
    }
   ],
   "source": [
    "prior_bart = BARTModel.from_pretrained(MLM_MODEL_PATH,\n",
    "                                       checkpoint_file='model.pt',\n",
    "                                       data_name_or_path=MLM_MODEL_PATH)"
   ]
  },
  {
   "cell_type": "markdown",
   "id": "adjusted-raise",
   "metadata": {},
   "source": [
    "#### Build Prior & Posterior Model"
   ]
  },
  {
   "cell_type": "code",
   "execution_count": 7,
   "id": "trained-township",
   "metadata": {},
   "outputs": [],
   "source": [
    "from EntFA.model import ConditionalSequenceGenerator\n",
    "from EntFA.utils import prepare_cmlm_inputs, prepare_mlm_inputs, get_probability_parallel"
   ]
  },
  {
   "cell_type": "code",
   "execution_count": 8,
   "id": "varied-renewal",
   "metadata": {},
   "outputs": [],
   "source": [
    "model = ConditionalSequenceGenerator(bart)\n",
    "prior_model = ConditionalSequenceGenerator(prior_bart)"
   ]
  },
  {
   "cell_type": "markdown",
   "id": "authorized-platform",
   "metadata": {},
   "source": [
    "#### Test on One Sample"
   ]
  },
  {
   "cell_type": "code",
   "execution_count": 9,
   "id": "c884b778-43a2-4236-87d0-873732bd7dd6",
   "metadata": {},
   "outputs": [],
   "source": [
    "import spacy\n",
    "\n",
    "nlp = spacy.load('en_core_web_sm')"
   ]
  },
  {
   "cell_type": "code",
   "execution_count": 10,
   "id": "7f9a8087-2c69-4dca-a3d1-2f524d6901ee",
   "metadata": {},
   "outputs": [],
   "source": [
    "source = 'The city was brought to a standstill on 15 December last year when a gunman held 18 hostages for 17 hours. Family members of victims Tori Johnson and Katrina Dawson were in attendance. Images of the floral tributes that filled the city centre in the wake of the siege were projected on to the cafe and surrounding buildings in an emotional twilight ceremony. Prime Minister Malcolm Turnbull gave an address saying a \"whole nation resolved to answer hatred with love\". \"Testament to the spirit of Australians is that with such unnecessary, thoughtless tragedy, an amazing birth of mateship, unity and love occurs. Proud to be Australian,\" he said. How the Sydney siege unfolded. New South Wales Premier Mike Baird has also announced plans for a permanent memorial to be built into the pavement in Martin Place. Clear cubes containing flowers will be embedded into the concrete and will shine with specialised lighting. It is a project inspired by the massive floral tributes that were left in the days after the siege. \"Something remarkable happened here. As a city we were drawn to Martin Place. We came in shock and in sorrow but every step we took was with purpose,\" he said on Tuesday.'\n",
    "prediction = 'Sydney has marked the first anniversary of the siege at the Waverley cafe in which two women were killed by a gunman in the Australian city.'"
   ]
  },
  {
   "cell_type": "code",
   "execution_count": 11,
   "id": "indoor-shield",
   "metadata": {},
   "outputs": [
    {
     "name": "stdout",
     "output_type": "stream",
     "text": [
      "['Sydney', 'first', 'Waverley', 'two', 'Australian']\n"
     ]
    }
   ],
   "source": [
    "entities = nlp(prediction).to_json()['ents']\n",
    "ent_text = [prediction[e['start']: e['end']] for e in entities]\n",
    "print(ent_text)"
   ]
  },
  {
   "cell_type": "code",
   "execution_count": 12,
   "id": "occupational-encoding",
   "metadata": {},
   "outputs": [],
   "source": [
    "inputs = prepare_cmlm_inputs(source, prediction, ent_parts=entities)\n",
    "posteriors = get_probability_parallel(model, inputs[0], inputs[1], inputs[2], inputs[3])"
   ]
  },
  {
   "cell_type": "code",
   "execution_count": 13,
   "id": "lesser-ontario",
   "metadata": {},
   "outputs": [],
   "source": [
    "inputs = prepare_mlm_inputs(source, prediction, ent_parts=entities)\n",
    "priors = get_probability_parallel(prior_model, inputs[0], inputs[1], inputs[2], inputs[3], mask_filling=True)"
   ]
  },
  {
   "cell_type": "code",
   "execution_count": 14,
   "id": "0d649230-2fee-466d-b451-32c8e664dae5",
   "metadata": {},
   "outputs": [
    {
     "name": "stdout",
     "output_type": "stream",
     "text": [
      "        \tPrior\t\tPosterior\n",
      "Sydney  \t0.00366783\t0.946777\n",
      "first   \t0.116516\t0.325928\n",
      "Waverley\t0.0179596\t0.00888062\n",
      "two     \t0.0629272\t0.858887\n",
      "Australian\t0.00283623\t0.911133\n"
     ]
    }
   ],
   "source": [
    "print('{:<8}\\t{:}\\t\\t{:}'.format('', 'Prior', 'Posterior'))\n",
    "for e, pri, pos in zip(ent_text, priors, posteriors):\n",
    "    print('{:<8}\\t{:.6}\\t{:.6}'.format(e, pri, pos))"
   ]
  }
 ],
 "metadata": {
  "interpreter": {
   "hash": "459b9217564289376ecf29bb4b901d4606aa3f1a906409f5398bc9c0e418da4b"
  },
  "kernelspec": {
   "display_name": "Python 3.8.13 ('entfa')",
   "language": "python",
   "name": "python3"
  },
  "language_info": {
   "codemirror_mode": {
    "name": "ipython",
    "version": 3
   },
   "file_extension": ".py",
   "mimetype": "text/x-python",
   "name": "python",
   "nbconvert_exporter": "python",
   "pygments_lexer": "ipython3",
   "version": "3.8.13"
  }
 },
 "nbformat": 4,
 "nbformat_minor": 5
}
